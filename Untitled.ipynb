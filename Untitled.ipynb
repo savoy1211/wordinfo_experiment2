{
 "cells": [
  {
   "cell_type": "code",
   "execution_count": 1,
   "metadata": {},
   "outputs": [],
   "source": [
    "import pandas as pd\n",
    "import numpy as np"
   ]
  },
  {
   "cell_type": "code",
   "execution_count": 55,
   "metadata": {},
   "outputs": [
    {
     "data": {
      "text/plain": [
       "5                   ['there', 'was', 'no', 'time', 'to']\n",
       "9                    ['he', 'felt', 'that', 'he', 'was']\n",
       "17                 ['did', 'not', 'know', 'that', 'his']\n",
       "27     ['turquoise', 'rings', 'would', 'not', 'console']\n",
       "31          ['idealize', 'our', 'romance', 'and', 'our']\n",
       "33     ['something', 'dreadful', 'has', 'happened', '...\n",
       "35                   ['he', 'went', 'back', 'to', 'his']\n",
       "51                    ['he', 'had', 'to', 'be', 'taken']\n",
       "55                 ['book', 'and', 'try', 'not', 'only']\n",
       "57              ['can', 'thank', 'you', 'enough', 'for']\n",
       "59                     ['as', 'well', 'as', 'in', 'the']\n",
       "65                   ['you', 'will', 'come', 'to', 'me']\n",
       "69                 ['the', 'rest', 'of', 'the', 'world']\n",
       "81                   ['and', 'you', 'will', 'not', 'be']\n",
       "87                ['it', 'is', 'not', 'necessary', 'to']\n",
       "91                    ['and', 'it', 'was', 'just', 'as']\n",
       "95               ['be', 'able', 'to', 'believe', 'that']\n",
       "97        ['with', 'no', 'obstruction', 'between', 'us']\n",
       "99                  ['that', 'he', 'had', 'done', 'his']\n",
       "105    ['connected', 'with', 'the', 'wilderness', 'ca...\n",
       "111       ['that', 'her', 'temper', 'is', 'intractable']\n",
       "113                   ['in', 'order', 'to', 'get', 'to']\n",
       "117                 ['that', 'in', 'spite', 'of', 'his']\n",
       "121                ['she', 'might', 'risk', 'such', 'a']\n",
       "123                 ['a', 'great', 'deal', 'more', 'of']\n",
       "Name: solution, dtype: object"
      ]
     },
     "execution_count": 55,
     "metadata": {},
     "output_type": "execute_result"
    }
   ],
   "source": [
    "df = pd.read_csv(\"woe2-sandbox-merged.csv\")\n",
    "ndf = df[['workerid', 'correct','response','solution']]\n",
    "ndf = ndf.loc[ndf['workerid'] == 94]\n",
    "ndf = ndf.loc[ndf['correct'] == True]\n",
    "sdf = ndf['solution']\n",
    "sdf"
   ]
  },
  {
   "cell_type": "code",
   "execution_count": 56,
   "metadata": {},
   "outputs": [
    {
     "name": "stdout",
     "output_type": "stream",
     "text": [
      "# of most likely correct:  16\n",
      "# of mid likely correct:  7\n",
      "# of least likely correct:  2\n"
     ]
    }
   ],
   "source": [
    "def get_num_correct(file):\n",
    "    d = {}\n",
    "    with open(\"../../1_wordorder_info/\"+file, \"r\") as t:\n",
    "        text = t.read()\n",
    "        for i in sdf:\n",
    "            if i in text:\n",
    "                d[i] = 1\n",
    "    return sum(list(d.values()))\n",
    "\n",
    "print(\"# of most likely correct: \", get_num_correct('words_most_likely_final.txt'))\n",
    "print(\"# of mid likely correct: \", get_num_correct('words_mid_likely_final.txt'))\n",
    "print(\"# of least likely correct: \", get_num_correct('words_least_likely_final.txt'))\n",
    "\n"
   ]
  },
  {
   "cell_type": "code",
   "execution_count": null,
   "metadata": {},
   "outputs": [],
   "source": []
  },
  {
   "cell_type": "code",
   "execution_count": null,
   "metadata": {},
   "outputs": [],
   "source": []
  },
  {
   "cell_type": "code",
   "execution_count": null,
   "metadata": {},
   "outputs": [],
   "source": []
  }
 ],
 "metadata": {
  "kernelspec": {
   "display_name": "Python 3",
   "language": "python",
   "name": "python3"
  },
  "language_info": {
   "codemirror_mode": {
    "name": "ipython",
    "version": 3
   },
   "file_extension": ".py",
   "mimetype": "text/x-python",
   "name": "python",
   "nbconvert_exporter": "python",
   "pygments_lexer": "ipython3",
   "version": "3.7.4"
  }
 },
 "nbformat": 4,
 "nbformat_minor": 2
}
